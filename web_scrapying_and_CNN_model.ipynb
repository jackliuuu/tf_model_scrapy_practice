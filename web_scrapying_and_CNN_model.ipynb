{
 "cells": [
  {
   "cell_type": "code",
   "execution_count": 100,
   "metadata": {},
   "outputs": [],
   "source": [
    "from bs4 import BeautifulSoup\n",
    "from selenium import webdriver\n",
    "import requests\n",
    "import time\n",
    "import os"
   ]
  },
  {
   "cell_type": "code",
   "execution_count": 131,
   "metadata": {},
   "outputs": [],
   "source": [
    "def GetDogImg(dogname,dstpath):#上網抓取不同種類的狗圖片\n",
    "    os.mkdir('/Users/liuzhengying/{}/'.format(dstpath))#創建資料夾\n",
    "    xpath='//*[@id=\"islrg\"]/div/div/a/div/img'\n",
    "    url='https://www.google.com/search?q={}&rlz=1C5CHFA_enTW894TW894&sxsrf=ALeKk02o1iRQIwcz7iotqUZxjwJjwrMdDQ:1598609096649&source=lnms&tbm=isch&sa=X&ved=2ahUKEwjunNz60r3rAhXPyYsBHalqDDwQ_AUoAXoECB0QAw&biw=1440&bih=755'\n",
    "    header={'user-agent':'Mozilla/5.0 (Macintosh; Intel Mac OS X 10_15_6) AppleWebKit/537.36 (KHTML, like Gecko) Chrome/85.0.4183.83 Safari/537.36'\n",
    "    }\n",
    "    soup=BeautifulSoup(res.text,'lxml')\n",
    "    driver=webdriver.Chrome('/Users/liuzhengying/anaconda3/lib/python3.6/site-packages/selenium/webdriver/chrome/chromedriver')\n",
    "    driver.maximize_window()\n",
    "    driver.get(url.format(dogname))\n",
    "    all_window_height =  []  # 建立一個列表，用於記錄每一次拖動滾動條後頁面的最大高度\n",
    "    all_window_height.append(driver.execute_script(\"return document.body.scrollHeight;\")) #當前頁面的最大高度加入列表\n",
    "    while True:\n",
    "        driver.execute_script(\"scroll(0,100000)\") # 執行拖動滾動條操作\n",
    "        time.sleep(3)\n",
    "        check_height = driver.execute_script(\"return document.body.scrollHeight;\")\n",
    "        if check_height == all_window_height[-1]:  #判斷拖動滾動條後的最大高度與上一次的最大高度的大小，相等表明到了最底部\n",
    "            break\n",
    "        else:\n",
    "            all_window_height.append(check_height) \n",
    "    for element in driver.find_elements_by_xpath(xpath):\n",
    "            img_url=element.get_attribute('src')\n",
    "            if img_url!=None :\n",
    "                if len(img_url)==101:\n",
    "                    filename=img_url.split('q=tbn')[-1]\n",
    "                    with open('/Users/liuzhengying/{}/'.format(dstpath) + filename + '.jpg', 'wb') as f:\n",
    "                        res2 = requests.get(img_url,headers=header)\n",
    "                        f.write(res2.content)\n",
    "    driver.close()"
   ]
  },
  {
   "cell_type": "code",
   "execution_count": 132,
   "metadata": {},
   "outputs": [],
   "source": [
    "GetDogImg('吉娃娃','dog1')\n",
    "GetDogImg('柯基','dog2')"
   ]
  },
  {
   "cell_type": "code",
   "execution_count": 134,
   "metadata": {},
   "outputs": [],
   "source": [
    "GetDogImg('馬爾濟斯','dog3')"
   ]
  },
  {
   "cell_type": "code",
   "execution_count": 133,
   "metadata": {},
   "outputs": [],
   "source": [
    "GetDogImg('哈士奇','dog4')"
   ]
  },
  {
   "cell_type": "code",
   "execution_count": null,
   "metadata": {},
   "outputs": [],
   "source": []
  }
 ],
 "metadata": {
  "kernelspec": {
   "display_name": "Python 3",
   "language": "python",
   "name": "python3"
  },
  "language_info": {
   "codemirror_mode": {
    "name": "ipython",
    "version": 3
   },
   "file_extension": ".py",
   "mimetype": "text/x-python",
   "name": "python",
   "nbconvert_exporter": "python",
   "pygments_lexer": "ipython3",
   "version": "3.6.8"
  }
 },
 "nbformat": 4,
 "nbformat_minor": 2
}
