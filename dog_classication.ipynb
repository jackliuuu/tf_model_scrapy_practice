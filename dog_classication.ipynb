{
  "nbformat": 4,
  "nbformat_minor": 0,
  "metadata": {
    "colab": {
      "name": "dog_classication.ipynb",
      "provenance": [],
      "mount_file_id": "1GEZGtGI2GC9upYuuk1CH1ZndTqu-CEu3",
      "authorship_tag": "ABX9TyMW1+68ITw2U48bKh/OwNPl",
      "include_colab_link": true
    },
    "kernelspec": {
      "name": "python3",
      "display_name": "Python 3"
    },
    "accelerator": "GPU"
  },
  "cells": [
    {
      "cell_type": "markdown",
      "metadata": {
        "id": "view-in-github",
        "colab_type": "text"
      },
      "source": [
        "<a href=\"https://colab.research.google.com/github/jackliuuu/tf_model_scrapy_practice/blob/master/dog_classication.ipynb\" target=\"_parent\"><img src=\"https://colab.research.google.com/assets/colab-badge.svg\" alt=\"Open In Colab\"/></a>"
      ]
    },
    {
      "cell_type": "code",
      "metadata": {
        "id": "QfCfW4W3LHx8",
        "colab_type": "code",
        "colab": {}
      },
      "source": [
        "import tensorflow as tf\n",
        "from keras_preprocessing.image import ImageDataGenerator\n",
        "from tensorflow import keras\n",
        "from tensorflow.keras import layers\n",
        "from tensorflow.keras.models import Sequential\n",
        "import matplotlib.pyplot as plt\n",
        "%matplotlib inline"
      ],
      "execution_count": 83,
      "outputs": []
    },
    {
      "cell_type": "code",
      "metadata": {
        "id": "-vGJRgFmWNkR",
        "colab_type": "code",
        "colab": {}
      },
      "source": [
        ""
      ],
      "execution_count": null,
      "outputs": []
    },
    {
      "cell_type": "code",
      "metadata": {
        "id": "tlzWIxGJSOOR",
        "colab_type": "code",
        "colab": {
          "base_uri": "https://localhost:8080/",
          "height": 34
        },
        "outputId": "d2229a97-b1f7-4171-92c7-c670c4f6ecab"
      },
      "source": [
        "train_data_gen=ImageDataGenerator(\n",
        "        rescale=1./255,\n",
        "        shear_range=0.2,\n",
        "        zoom_range=0.2,\n",
        "        validation_split=0.2,\n",
        "        horizontal_flip=True)\n",
        "train_generator=train_data_gen.flow_from_directory(directory='/content/drive/My Drive/train_data',\n",
        "                                                   target_size=(64,64),batch_size=50,\n",
        "                                                   class_mode='categorical' )"
      ],
      "execution_count": 10,
      "outputs": [
        {
          "output_type": "stream",
          "text": [
            "Found 1194 images belonging to 4 classes.\n"
          ],
          "name": "stdout"
        }
      ]
    },
    {
      "cell_type": "code",
      "metadata": {
        "id": "gfL92BPAIfXD",
        "colab_type": "code",
        "colab": {
          "base_uri": "https://localhost:8080/",
          "height": 51
        },
        "outputId": "648c47c8-bc4b-4cba-d7a7-ebadd8008a88"
      },
      "source": [
        "train_ds = tf.keras.preprocessing.image_dataset_from_directory(\n",
        "  '/content/drive/My Drive/train_data',\n",
        "  validation_split=0.25,\n",
        "  subset=\"training\",\n",
        "  seed=123,\n",
        "  image_size=(64, 64),\n",
        "  batch_size=30)\n",
        "\n"
      ],
      "execution_count": 198,
      "outputs": [
        {
          "output_type": "stream",
          "text": [
            "Found 1194 files belonging to 4 classes.\n",
            "Using 896 files for training.\n"
          ],
          "name": "stdout"
        }
      ]
    },
    {
      "cell_type": "code",
      "metadata": {
        "id": "zk3MAdVvOVJx",
        "colab_type": "code",
        "colab": {
          "base_uri": "https://localhost:8080/",
          "height": 51
        },
        "outputId": "3a804ff8-c12d-4bc4-842b-ddf031bb8af7"
      },
      "source": [
        "val_ds = tf.keras.preprocessing.image_dataset_from_directory(\n",
        "  '/content/drive/My Drive/train_data',\n",
        "  validation_split=0.25,\n",
        "  subset=\"validation\",\n",
        "  seed=123,\n",
        "  image_size=(64, 64),\n",
        "  batch_size=30)\n",
        "\n"
      ],
      "execution_count": 199,
      "outputs": [
        {
          "output_type": "stream",
          "text": [
            "Found 1194 files belonging to 4 classes.\n",
            "Using 298 files for validation.\n"
          ],
          "name": "stdout"
        }
      ]
    },
    {
      "cell_type": "code",
      "metadata": {
        "id": "7Zcha8x6OhCP",
        "colab_type": "code",
        "colab": {
          "base_uri": "https://localhost:8080/",
          "height": 34
        },
        "outputId": "da859ba4-5048-457d-d0e5-3b78d2701c7e"
      },
      "source": [
        "class_names = train_ds.class_names\n",
        "print(class_names)"
      ],
      "execution_count": 200,
      "outputs": [
        {
          "output_type": "stream",
          "text": [
            "['dog1', 'dog2', 'dog3', 'dog4']\n"
          ],
          "name": "stdout"
        }
      ]
    },
    {
      "cell_type": "code",
      "metadata": {
        "id": "GvCBITJ5SC5O",
        "colab_type": "code",
        "colab": {}
      },
      "source": [
        "AUTOTUNE = tf.data.experimental.AUTOTUNE\n",
        "\n",
        "train_ds = train_ds.cache().prefetch(buffer_size=AUTOTUNE)\n",
        "val_ds = val_ds.cache().prefetch(buffer_size=AUTOTUNE)"
      ],
      "execution_count": 201,
      "outputs": []
    },
    {
      "cell_type": "code",
      "metadata": {
        "id": "JpxUB1V7OkLC",
        "colab_type": "code",
        "colab": {}
      },
      "source": [
        "model = Sequential([\n",
        "  layers.experimental.preprocessing.Rescaling(1./255, input_shape=(64,64, 3)),\n",
        "  layers.Conv2D(16, 3, padding='same', activation='relu'),\n",
        "  layers.MaxPooling2D(),\n",
        "  layers.Conv2D(16, 3, padding='same', activation='relu'),\n",
        "  layers.MaxPooling2D(),\n",
        "  layers.Conv2D(32, 3, padding='same', activation='relu'),\n",
        "  layers.MaxPooling2D(),\n",
        "  layers.Conv2D(32, 3, padding='same', activation='relu'),\n",
        "  layers.MaxPooling2D(),\n",
        "  layers.Conv2D(64, 3, padding='same', activation='relu'),\n",
        "  layers.MaxPooling2D(),\n",
        "  layers.Conv2D(64, 3, padding='same', activation='relu'),\n",
        "  layers.MaxPooling2D(),\n",
        "  layers.Flatten(),\n",
        "  layers.Dense(784,activation='relu'),\n",
        "  layers.Dropout(0.25),\n",
        "  layers.Dense(4, activation='softmax')])"
      ],
      "execution_count": null,
      "outputs": []
    },
    {
      "cell_type": "code",
      "metadata": {
        "id": "6YOkDTkdYAUy",
        "colab_type": "code",
        "colab": {}
      },
      "source": [
        "reduce_lr=tf.keras.callbacks.ReduceLROnPlateau(\n",
        "    monitor='val_accuracy', factor=0.3, patience=3, verbose=1, mode='auto', cooldown=0, min_lr=0.00001\n",
        ")"
      ],
      "execution_count": null,
      "outputs": []
    },
    {
      "cell_type": "code",
      "metadata": {
        "id": "Jsp0hm-6PMWg",
        "colab_type": "code",
        "colab": {}
      },
      "source": [
        "model.compile(optimizer='adam',\n",
        "              loss=tf.keras.losses.SparseCategoricalCrossentropy(from_logits=True),\n",
        "              metrics=['accuracy'])"
      ],
      "execution_count": 204,
      "outputs": []
    },
    {
      "cell_type": "code",
      "metadata": {
        "id": "E6jQCRfAPeS6",
        "colab_type": "code",
        "colab": {
          "base_uri": "https://localhost:8080/",
          "height": 731
        },
        "outputId": "4ea55812-3b10-4274-ae0a-10c5f8d87b1d"
      },
      "source": [
        "model.summary()"
      ],
      "execution_count": 205,
      "outputs": [
        {
          "output_type": "stream",
          "text": [
            "Model: \"sequential_24\"\n",
            "_________________________________________________________________\n",
            "Layer (type)                 Output Shape              Param #   \n",
            "=================================================================\n",
            "rescaling_37 (Rescaling)     (None, 64, 64, 3)         0         \n",
            "_________________________________________________________________\n",
            "conv2d_117 (Conv2D)          (None, 64, 64, 16)        448       \n",
            "_________________________________________________________________\n",
            "max_pooling2d_117 (MaxPoolin (None, 32, 32, 16)        0         \n",
            "_________________________________________________________________\n",
            "conv2d_118 (Conv2D)          (None, 32, 32, 16)        2320      \n",
            "_________________________________________________________________\n",
            "max_pooling2d_118 (MaxPoolin (None, 16, 16, 16)        0         \n",
            "_________________________________________________________________\n",
            "conv2d_119 (Conv2D)          (None, 16, 16, 32)        4640      \n",
            "_________________________________________________________________\n",
            "max_pooling2d_119 (MaxPoolin (None, 8, 8, 32)          0         \n",
            "_________________________________________________________________\n",
            "conv2d_120 (Conv2D)          (None, 8, 8, 32)          9248      \n",
            "_________________________________________________________________\n",
            "max_pooling2d_120 (MaxPoolin (None, 4, 4, 32)          0         \n",
            "_________________________________________________________________\n",
            "conv2d_121 (Conv2D)          (None, 4, 4, 64)          18496     \n",
            "_________________________________________________________________\n",
            "max_pooling2d_121 (MaxPoolin (None, 2, 2, 64)          0         \n",
            "_________________________________________________________________\n",
            "conv2d_122 (Conv2D)          (None, 2, 2, 64)          36928     \n",
            "_________________________________________________________________\n",
            "max_pooling2d_122 (MaxPoolin (None, 1, 1, 64)          0         \n",
            "_________________________________________________________________\n",
            "flatten_26 (Flatten)         (None, 64)                0         \n",
            "_________________________________________________________________\n",
            "dense_51 (Dense)             (None, 784)               50960     \n",
            "_________________________________________________________________\n",
            "dropout_22 (Dropout)         (None, 784)               0         \n",
            "_________________________________________________________________\n",
            "dense_52 (Dense)             (None, 4)                 3140      \n",
            "=================================================================\n",
            "Total params: 126,180\n",
            "Trainable params: 126,180\n",
            "Non-trainable params: 0\n",
            "_________________________________________________________________\n"
          ],
          "name": "stdout"
        }
      ]
    },
    {
      "cell_type": "code",
      "metadata": {
        "id": "_egPQBbCPhl9",
        "colab_type": "code",
        "colab": {
          "base_uri": "https://localhost:8080/",
          "height": 1000
        },
        "outputId": "365b47d1-25d1-42ad-c68b-3ab8b4d9b568"
      },
      "source": [
        "epochs=200\n",
        "history = model.fit(\n",
        "  train_ds,\n",
        "  validation_data=val_ds,\n",
        "  verbose=1,\n",
        "  #callbacks=[reduce_lr],\n",
        "  epochs=epochs\n",
        ")"
      ],
      "execution_count": 206,
      "outputs": [
        {
          "output_type": "stream",
          "text": [
            "Epoch 1/200\n",
            "30/30 [==============================] - 2s 73ms/step - loss: 1.3803 - accuracy: 0.2545 - val_loss: 1.3809 - val_accuracy: 0.3322\n",
            "Epoch 2/200\n",
            "30/30 [==============================] - 0s 12ms/step - loss: 1.3545 - accuracy: 0.3259 - val_loss: 1.3650 - val_accuracy: 0.3456\n",
            "Epoch 3/200\n",
            "30/30 [==============================] - 0s 11ms/step - loss: 1.3844 - accuracy: 0.2801 - val_loss: 1.3581 - val_accuracy: 0.3188\n",
            "Epoch 4/200\n",
            "30/30 [==============================] - 0s 10ms/step - loss: 1.3461 - accuracy: 0.3616 - val_loss: 1.3226 - val_accuracy: 0.3691\n",
            "Epoch 5/200\n",
            "30/30 [==============================] - 0s 10ms/step - loss: 1.3151 - accuracy: 0.3817 - val_loss: 1.3247 - val_accuracy: 0.3221\n",
            "Epoch 6/200\n",
            "30/30 [==============================] - 0s 11ms/step - loss: 1.3215 - accuracy: 0.3627 - val_loss: 1.4142 - val_accuracy: 0.2617\n",
            "Epoch 7/200\n",
            "30/30 [==============================] - 0s 10ms/step - loss: 1.3173 - accuracy: 0.3951 - val_loss: 1.2723 - val_accuracy: 0.4329\n",
            "Epoch 8/200\n",
            "30/30 [==============================] - 0s 9ms/step - loss: 1.2796 - accuracy: 0.4230 - val_loss: 1.3037 - val_accuracy: 0.4262\n",
            "Epoch 9/200\n",
            "30/30 [==============================] - 0s 10ms/step - loss: 1.2657 - accuracy: 0.4632 - val_loss: 1.2945 - val_accuracy: 0.4295\n",
            "Epoch 10/200\n",
            "30/30 [==============================] - 0s 9ms/step - loss: 1.2394 - accuracy: 0.5011 - val_loss: 1.3115 - val_accuracy: 0.4060\n",
            "Epoch 11/200\n",
            "30/30 [==============================] - 0s 9ms/step - loss: 1.2275 - accuracy: 0.4955 - val_loss: 1.2943 - val_accuracy: 0.4295\n",
            "Epoch 12/200\n",
            "30/30 [==============================] - 0s 10ms/step - loss: 1.2135 - accuracy: 0.5145 - val_loss: 1.1882 - val_accuracy: 0.5470\n",
            "Epoch 13/200\n",
            "30/30 [==============================] - 0s 9ms/step - loss: 1.1935 - accuracy: 0.5324 - val_loss: 1.1851 - val_accuracy: 0.5134\n",
            "Epoch 14/200\n",
            "30/30 [==============================] - 0s 9ms/step - loss: 1.1666 - accuracy: 0.5670 - val_loss: 1.2034 - val_accuracy: 0.5369\n",
            "Epoch 15/200\n",
            "30/30 [==============================] - 0s 9ms/step - loss: 1.1606 - accuracy: 0.5748 - val_loss: 1.2961 - val_accuracy: 0.4295\n",
            "Epoch 16/200\n",
            "30/30 [==============================] - 0s 10ms/step - loss: 1.1379 - accuracy: 0.6071 - val_loss: 1.2059 - val_accuracy: 0.5134\n",
            "Epoch 17/200\n",
            "30/30 [==============================] - 0s 9ms/step - loss: 1.1211 - accuracy: 0.6194 - val_loss: 1.1886 - val_accuracy: 0.5369\n",
            "Epoch 18/200\n",
            "30/30 [==============================] - 0s 10ms/step - loss: 1.1166 - accuracy: 0.6138 - val_loss: 1.1756 - val_accuracy: 0.5470\n",
            "Epoch 19/200\n",
            "30/30 [==============================] - 0s 10ms/step - loss: 1.1043 - accuracy: 0.6317 - val_loss: 1.1812 - val_accuracy: 0.5470\n",
            "Epoch 20/200\n",
            "30/30 [==============================] - 0s 9ms/step - loss: 1.0721 - accuracy: 0.6719 - val_loss: 1.2457 - val_accuracy: 0.4765\n",
            "Epoch 21/200\n",
            "30/30 [==============================] - 0s 9ms/step - loss: 1.0493 - accuracy: 0.6964 - val_loss: 1.2615 - val_accuracy: 0.4664\n",
            "Epoch 22/200\n",
            "30/30 [==============================] - 0s 10ms/step - loss: 1.0394 - accuracy: 0.7076 - val_loss: 1.2160 - val_accuracy: 0.5101\n",
            "Epoch 23/200\n",
            "30/30 [==============================] - 0s 9ms/step - loss: 0.9981 - accuracy: 0.7522 - val_loss: 1.2436 - val_accuracy: 0.4799\n",
            "Epoch 24/200\n",
            "30/30 [==============================] - 0s 9ms/step - loss: 1.0059 - accuracy: 0.7388 - val_loss: 1.2116 - val_accuracy: 0.5268\n",
            "Epoch 25/200\n",
            "30/30 [==============================] - 0s 9ms/step - loss: 0.9911 - accuracy: 0.7567 - val_loss: 1.1838 - val_accuracy: 0.5436\n",
            "Epoch 26/200\n",
            "30/30 [==============================] - 0s 10ms/step - loss: 1.0473 - accuracy: 0.6953 - val_loss: 1.2211 - val_accuracy: 0.5101\n",
            "Epoch 27/200\n",
            "30/30 [==============================] - 0s 9ms/step - loss: 0.9887 - accuracy: 0.7578 - val_loss: 1.2391 - val_accuracy: 0.4933\n",
            "Epoch 28/200\n",
            "30/30 [==============================] - 0s 9ms/step - loss: 1.0035 - accuracy: 0.7355 - val_loss: 1.2672 - val_accuracy: 0.4631\n",
            "Epoch 29/200\n",
            "30/30 [==============================] - 0s 10ms/step - loss: 0.9729 - accuracy: 0.7746 - val_loss: 1.2751 - val_accuracy: 0.4631\n",
            "Epoch 30/200\n",
            "30/30 [==============================] - 0s 9ms/step - loss: 0.9477 - accuracy: 0.7991 - val_loss: 1.2725 - val_accuracy: 0.4631\n",
            "Epoch 31/200\n",
            "30/30 [==============================] - 0s 9ms/step - loss: 0.9561 - accuracy: 0.7935 - val_loss: 1.2451 - val_accuracy: 0.4899\n",
            "Epoch 32/200\n",
            "30/30 [==============================] - 0s 10ms/step - loss: 0.9415 - accuracy: 0.8013 - val_loss: 1.2173 - val_accuracy: 0.5134\n",
            "Epoch 33/200\n",
            "30/30 [==============================] - 0s 9ms/step - loss: 0.9368 - accuracy: 0.8080 - val_loss: 1.2776 - val_accuracy: 0.4530\n",
            "Epoch 34/200\n",
            "30/30 [==============================] - 0s 9ms/step - loss: 0.9593 - accuracy: 0.7801 - val_loss: 1.2876 - val_accuracy: 0.4463\n",
            "Epoch 35/200\n",
            "30/30 [==============================] - 0s 10ms/step - loss: 0.9556 - accuracy: 0.7868 - val_loss: 1.2469 - val_accuracy: 0.4732\n",
            "Epoch 36/200\n",
            "30/30 [==============================] - 0s 9ms/step - loss: 0.9396 - accuracy: 0.8025 - val_loss: 1.2905 - val_accuracy: 0.4463\n",
            "Epoch 37/200\n",
            "30/30 [==============================] - 0s 9ms/step - loss: 0.9300 - accuracy: 0.8092 - val_loss: 1.2777 - val_accuracy: 0.4564\n",
            "Epoch 38/200\n",
            "30/30 [==============================] - 0s 10ms/step - loss: 0.9279 - accuracy: 0.8192 - val_loss: 1.3026 - val_accuracy: 0.4262\n",
            "Epoch 39/200\n",
            "30/30 [==============================] - 0s 9ms/step - loss: 0.9449 - accuracy: 0.8025 - val_loss: 1.2644 - val_accuracy: 0.4698\n",
            "Epoch 40/200\n",
            "30/30 [==============================] - 0s 9ms/step - loss: 0.9190 - accuracy: 0.8281 - val_loss: 1.2688 - val_accuracy: 0.4664\n",
            "Epoch 41/200\n",
            "30/30 [==============================] - 0s 10ms/step - loss: 0.9487 - accuracy: 0.7946 - val_loss: 1.3063 - val_accuracy: 0.4329\n",
            "Epoch 42/200\n",
            "30/30 [==============================] - 0s 10ms/step - loss: 0.9294 - accuracy: 0.8136 - val_loss: 1.2593 - val_accuracy: 0.4698\n",
            "Epoch 43/200\n",
            "30/30 [==============================] - 0s 9ms/step - loss: 0.9527 - accuracy: 0.7891 - val_loss: 1.2281 - val_accuracy: 0.4966\n",
            "Epoch 44/200\n",
            "30/30 [==============================] - 0s 10ms/step - loss: 0.9680 - accuracy: 0.7779 - val_loss: 1.2347 - val_accuracy: 0.4966\n",
            "Epoch 45/200\n",
            "30/30 [==============================] - 0s 10ms/step - loss: 0.9757 - accuracy: 0.7690 - val_loss: 1.2745 - val_accuracy: 0.4564\n",
            "Epoch 46/200\n",
            "30/30 [==============================] - 0s 9ms/step - loss: 0.9678 - accuracy: 0.7690 - val_loss: 1.2980 - val_accuracy: 0.4329\n",
            "Epoch 47/200\n",
            "30/30 [==============================] - 0s 9ms/step - loss: 0.9706 - accuracy: 0.7712 - val_loss: 1.3126 - val_accuracy: 0.4295\n",
            "Epoch 48/200\n",
            "30/30 [==============================] - 0s 9ms/step - loss: 0.9464 - accuracy: 0.7969 - val_loss: 1.3002 - val_accuracy: 0.4295\n",
            "Epoch 49/200\n",
            "30/30 [==============================] - 0s 10ms/step - loss: 0.9600 - accuracy: 0.7790 - val_loss: 1.2866 - val_accuracy: 0.4396\n",
            "Epoch 50/200\n",
            "30/30 [==============================] - 0s 9ms/step - loss: 0.9449 - accuracy: 0.8013 - val_loss: 1.2514 - val_accuracy: 0.4799\n",
            "Epoch 51/200\n",
            "30/30 [==============================] - 0s 10ms/step - loss: 0.9148 - accuracy: 0.8326 - val_loss: 1.2912 - val_accuracy: 0.4396\n",
            "Epoch 52/200\n",
            "30/30 [==============================] - 0s 9ms/step - loss: 0.9089 - accuracy: 0.8348 - val_loss: 1.2741 - val_accuracy: 0.4564\n",
            "Epoch 53/200\n",
            "30/30 [==============================] - 0s 9ms/step - loss: 0.8938 - accuracy: 0.8527 - val_loss: 1.2286 - val_accuracy: 0.5034\n",
            "Epoch 54/200\n",
            "30/30 [==============================] - 0s 9ms/step - loss: 0.8958 - accuracy: 0.8471 - val_loss: 1.2490 - val_accuracy: 0.4765\n",
            "Epoch 55/200\n",
            "30/30 [==============================] - 0s 10ms/step - loss: 0.8788 - accuracy: 0.8650 - val_loss: 1.2168 - val_accuracy: 0.5201\n",
            "Epoch 56/200\n",
            "30/30 [==============================] - 0s 9ms/step - loss: 0.8788 - accuracy: 0.8661 - val_loss: 1.1739 - val_accuracy: 0.5738\n",
            "Epoch 57/200\n",
            "30/30 [==============================] - 0s 9ms/step - loss: 0.8909 - accuracy: 0.8549 - val_loss: 1.2283 - val_accuracy: 0.5134\n",
            "Epoch 58/200\n",
            "30/30 [==============================] - 0s 10ms/step - loss: 0.8871 - accuracy: 0.8571 - val_loss: 1.2214 - val_accuracy: 0.5101\n",
            "Epoch 59/200\n",
            "30/30 [==============================] - 0s 9ms/step - loss: 0.8853 - accuracy: 0.8583 - val_loss: 1.2068 - val_accuracy: 0.5302\n",
            "Epoch 60/200\n",
            "30/30 [==============================] - 0s 9ms/step - loss: 0.9119 - accuracy: 0.8315 - val_loss: 1.2018 - val_accuracy: 0.5336\n",
            "Epoch 61/200\n",
            "30/30 [==============================] - 0s 10ms/step - loss: 0.9124 - accuracy: 0.8292 - val_loss: 1.2175 - val_accuracy: 0.5134\n",
            "Epoch 62/200\n",
            "30/30 [==============================] - 0s 10ms/step - loss: 0.8795 - accuracy: 0.8616 - val_loss: 1.2331 - val_accuracy: 0.5000\n",
            "Epoch 63/200\n",
            "30/30 [==============================] - 0s 10ms/step - loss: 0.8700 - accuracy: 0.8739 - val_loss: 1.2178 - val_accuracy: 0.5101\n",
            "Epoch 64/200\n",
            "30/30 [==============================] - 0s 9ms/step - loss: 0.8715 - accuracy: 0.8694 - val_loss: 1.2325 - val_accuracy: 0.4966\n",
            "Epoch 65/200\n",
            "30/30 [==============================] - 0s 9ms/step - loss: 0.8582 - accuracy: 0.8839 - val_loss: 1.2074 - val_accuracy: 0.5268\n",
            "Epoch 66/200\n",
            "30/30 [==============================] - 0s 10ms/step - loss: 0.8608 - accuracy: 0.8828 - val_loss: 1.2076 - val_accuracy: 0.5336\n",
            "Epoch 67/200\n",
            "30/30 [==============================] - 0s 9ms/step - loss: 0.8680 - accuracy: 0.8772 - val_loss: 1.2480 - val_accuracy: 0.4899\n",
            "Epoch 68/200\n",
            "30/30 [==============================] - 0s 9ms/step - loss: 0.8386 - accuracy: 0.9074 - val_loss: 1.2051 - val_accuracy: 0.5369\n",
            "Epoch 69/200\n",
            "30/30 [==============================] - 0s 9ms/step - loss: 0.8475 - accuracy: 0.8962 - val_loss: 1.2174 - val_accuracy: 0.5134\n",
            "Epoch 70/200\n",
            "30/30 [==============================] - 0s 9ms/step - loss: 0.8350 - accuracy: 0.9096 - val_loss: 1.1881 - val_accuracy: 0.5537\n",
            "Epoch 71/200\n",
            "30/30 [==============================] - 0s 10ms/step - loss: 0.8254 - accuracy: 0.9185 - val_loss: 1.1954 - val_accuracy: 0.5470\n",
            "Epoch 72/200\n",
            "30/30 [==============================] - 0s 9ms/step - loss: 0.8248 - accuracy: 0.9185 - val_loss: 1.2014 - val_accuracy: 0.5403\n",
            "Epoch 73/200\n",
            "30/30 [==============================] - 0s 10ms/step - loss: 0.8238 - accuracy: 0.9196 - val_loss: 1.1904 - val_accuracy: 0.5604\n",
            "Epoch 74/200\n",
            "30/30 [==============================] - 0s 9ms/step - loss: 0.8236 - accuracy: 0.9196 - val_loss: 1.1897 - val_accuracy: 0.5537\n",
            "Epoch 75/200\n",
            "30/30 [==============================] - 0s 9ms/step - loss: 0.8232 - accuracy: 0.9196 - val_loss: 1.1801 - val_accuracy: 0.5570\n",
            "Epoch 76/200\n",
            "30/30 [==============================] - 0s 9ms/step - loss: 0.8214 - accuracy: 0.9219 - val_loss: 1.1810 - val_accuracy: 0.5604\n",
            "Epoch 77/200\n",
            "30/30 [==============================] - 0s 9ms/step - loss: 0.8200 - accuracy: 0.9230 - val_loss: 1.1783 - val_accuracy: 0.5570\n",
            "Epoch 78/200\n",
            "30/30 [==============================] - 0s 10ms/step - loss: 0.8201 - accuracy: 0.9230 - val_loss: 1.1780 - val_accuracy: 0.5638\n",
            "Epoch 79/200\n",
            "30/30 [==============================] - 0s 9ms/step - loss: 0.8200 - accuracy: 0.9230 - val_loss: 1.1852 - val_accuracy: 0.5503\n",
            "Epoch 80/200\n",
            "30/30 [==============================] - 0s 10ms/step - loss: 0.8196 - accuracy: 0.9241 - val_loss: 1.1825 - val_accuracy: 0.5604\n",
            "Epoch 81/200\n",
            "30/30 [==============================] - 0s 10ms/step - loss: 0.8190 - accuracy: 0.9241 - val_loss: 1.1839 - val_accuracy: 0.5537\n",
            "Epoch 82/200\n",
            "30/30 [==============================] - 0s 10ms/step - loss: 0.8190 - accuracy: 0.9241 - val_loss: 1.1843 - val_accuracy: 0.5503\n",
            "Epoch 83/200\n",
            "30/30 [==============================] - 0s 9ms/step - loss: 0.8190 - accuracy: 0.9241 - val_loss: 1.1858 - val_accuracy: 0.5570\n",
            "Epoch 84/200\n",
            "30/30 [==============================] - 0s 10ms/step - loss: 0.8190 - accuracy: 0.9241 - val_loss: 1.1860 - val_accuracy: 0.5570\n",
            "Epoch 85/200\n",
            "30/30 [==============================] - 0s 10ms/step - loss: 0.8190 - accuracy: 0.9241 - val_loss: 1.1890 - val_accuracy: 0.5537\n",
            "Epoch 86/200\n",
            "30/30 [==============================] - 0s 10ms/step - loss: 0.8189 - accuracy: 0.9241 - val_loss: 1.1871 - val_accuracy: 0.5470\n",
            "Epoch 87/200\n",
            "30/30 [==============================] - 0s 10ms/step - loss: 0.8187 - accuracy: 0.9241 - val_loss: 1.1848 - val_accuracy: 0.5537\n",
            "Epoch 88/200\n",
            "30/30 [==============================] - 0s 9ms/step - loss: 0.8206 - accuracy: 0.9230 - val_loss: 1.1848 - val_accuracy: 0.5604\n",
            "Epoch 89/200\n",
            "30/30 [==============================] - 0s 9ms/step - loss: 0.8373 - accuracy: 0.9062 - val_loss: 1.2102 - val_accuracy: 0.5235\n",
            "Epoch 90/200\n",
            "30/30 [==============================] - 0s 9ms/step - loss: 0.8224 - accuracy: 0.9230 - val_loss: 1.2132 - val_accuracy: 0.5201\n",
            "Epoch 91/200\n",
            "30/30 [==============================] - 0s 10ms/step - loss: 0.8254 - accuracy: 0.9174 - val_loss: 1.1873 - val_accuracy: 0.5470\n",
            "Epoch 92/200\n",
            "30/30 [==============================] - 0s 10ms/step - loss: 0.8262 - accuracy: 0.9163 - val_loss: 1.2128 - val_accuracy: 0.5201\n",
            "Epoch 93/200\n",
            "30/30 [==============================] - 0s 9ms/step - loss: 0.8295 - accuracy: 0.9141 - val_loss: 1.2198 - val_accuracy: 0.5201\n",
            "Epoch 94/200\n",
            "30/30 [==============================] - 0s 10ms/step - loss: 0.8421 - accuracy: 0.9018 - val_loss: 1.1608 - val_accuracy: 0.5738\n",
            "Epoch 95/200\n",
            "30/30 [==============================] - 0s 10ms/step - loss: 0.8283 - accuracy: 0.9152 - val_loss: 1.1883 - val_accuracy: 0.5537\n",
            "Epoch 96/200\n",
            "30/30 [==============================] - 0s 10ms/step - loss: 0.8208 - accuracy: 0.9219 - val_loss: 1.1945 - val_accuracy: 0.5369\n",
            "Epoch 97/200\n",
            "30/30 [==============================] - 0s 10ms/step - loss: 0.8169 - accuracy: 0.9286 - val_loss: 1.2087 - val_accuracy: 0.5235\n",
            "Epoch 98/200\n",
            "30/30 [==============================] - 0s 9ms/step - loss: 0.8196 - accuracy: 0.9263 - val_loss: 1.2342 - val_accuracy: 0.4966\n",
            "Epoch 99/200\n",
            "30/30 [==============================] - 0s 9ms/step - loss: 0.8231 - accuracy: 0.9196 - val_loss: 1.2366 - val_accuracy: 0.4899\n",
            "Epoch 100/200\n",
            "30/30 [==============================] - 0s 9ms/step - loss: 0.8179 - accuracy: 0.9263 - val_loss: 1.2352 - val_accuracy: 0.5034\n",
            "Epoch 101/200\n",
            "30/30 [==============================] - 0s 9ms/step - loss: 0.8119 - accuracy: 0.9308 - val_loss: 1.2401 - val_accuracy: 0.5134\n",
            "Epoch 102/200\n",
            "30/30 [==============================] - 0s 10ms/step - loss: 0.8135 - accuracy: 0.9297 - val_loss: 1.2374 - val_accuracy: 0.4966\n",
            "Epoch 103/200\n",
            "30/30 [==============================] - 0s 10ms/step - loss: 0.8154 - accuracy: 0.9275 - val_loss: 1.2433 - val_accuracy: 0.4899\n",
            "Epoch 104/200\n",
            "30/30 [==============================] - 0s 10ms/step - loss: 0.8187 - accuracy: 0.9252 - val_loss: 1.2291 - val_accuracy: 0.5067\n",
            "Epoch 105/200\n",
            "30/30 [==============================] - 0s 9ms/step - loss: 0.8114 - accuracy: 0.9330 - val_loss: 1.1708 - val_accuracy: 0.5638\n",
            "Epoch 106/200\n",
            "30/30 [==============================] - 0s 9ms/step - loss: 0.8120 - accuracy: 0.9308 - val_loss: 1.2013 - val_accuracy: 0.5302\n",
            "Epoch 107/200\n",
            "30/30 [==============================] - 0s 10ms/step - loss: 0.8238 - accuracy: 0.9174 - val_loss: 1.2369 - val_accuracy: 0.4966\n",
            "Epoch 108/200\n",
            "30/30 [==============================] - 0s 9ms/step - loss: 0.8362 - accuracy: 0.9085 - val_loss: 1.2266 - val_accuracy: 0.4966\n",
            "Epoch 109/200\n",
            "30/30 [==============================] - 0s 9ms/step - loss: 0.8320 - accuracy: 0.9107 - val_loss: 1.2684 - val_accuracy: 0.4732\n",
            "Epoch 110/200\n",
            "30/30 [==============================] - 0s 10ms/step - loss: 0.8305 - accuracy: 0.9141 - val_loss: 1.2126 - val_accuracy: 0.5235\n",
            "Epoch 111/200\n",
            "30/30 [==============================] - 0s 9ms/step - loss: 0.8232 - accuracy: 0.9208 - val_loss: 1.2364 - val_accuracy: 0.4966\n",
            "Epoch 112/200\n",
            "30/30 [==============================] - 0s 9ms/step - loss: 0.8391 - accuracy: 0.9062 - val_loss: 1.2103 - val_accuracy: 0.5235\n",
            "Epoch 113/200\n",
            "30/30 [==============================] - 0s 9ms/step - loss: 0.8321 - accuracy: 0.9096 - val_loss: 1.2204 - val_accuracy: 0.5101\n",
            "Epoch 114/200\n",
            "30/30 [==============================] - 0s 9ms/step - loss: 0.8509 - accuracy: 0.8895 - val_loss: 1.2508 - val_accuracy: 0.4832\n",
            "Epoch 115/200\n",
            "30/30 [==============================] - 0s 9ms/step - loss: 0.8318 - accuracy: 0.9118 - val_loss: 1.1863 - val_accuracy: 0.5470\n",
            "Epoch 116/200\n",
            "30/30 [==============================] - 0s 9ms/step - loss: 0.8273 - accuracy: 0.9152 - val_loss: 1.2030 - val_accuracy: 0.5369\n",
            "Epoch 117/200\n",
            "30/30 [==============================] - 0s 10ms/step - loss: 0.8336 - accuracy: 0.9107 - val_loss: 1.2126 - val_accuracy: 0.5268\n",
            "Epoch 118/200\n",
            "30/30 [==============================] - 0s 10ms/step - loss: 0.8337 - accuracy: 0.9096 - val_loss: 1.2390 - val_accuracy: 0.5000\n",
            "Epoch 119/200\n",
            "30/30 [==============================] - 0s 9ms/step - loss: 0.8397 - accuracy: 0.9007 - val_loss: 1.2135 - val_accuracy: 0.5268\n",
            "Epoch 120/200\n",
            "30/30 [==============================] - 0s 10ms/step - loss: 0.8359 - accuracy: 0.9085 - val_loss: 1.2274 - val_accuracy: 0.5168\n",
            "Epoch 121/200\n",
            "30/30 [==============================] - 0s 9ms/step - loss: 0.8334 - accuracy: 0.9107 - val_loss: 1.2225 - val_accuracy: 0.5101\n",
            "Epoch 122/200\n",
            "30/30 [==============================] - 0s 9ms/step - loss: 0.8596 - accuracy: 0.8828 - val_loss: 1.2196 - val_accuracy: 0.5201\n",
            "Epoch 123/200\n",
            "30/30 [==============================] - 0s 9ms/step - loss: 0.8168 - accuracy: 0.9263 - val_loss: 1.2643 - val_accuracy: 0.4799\n",
            "Epoch 124/200\n",
            "30/30 [==============================] - 0s 9ms/step - loss: 0.8144 - accuracy: 0.9286 - val_loss: 1.2164 - val_accuracy: 0.5235\n",
            "Epoch 125/200\n",
            "30/30 [==============================] - 0s 10ms/step - loss: 0.8211 - accuracy: 0.9208 - val_loss: 1.2701 - val_accuracy: 0.4732\n",
            "Epoch 126/200\n",
            "30/30 [==============================] - 0s 9ms/step - loss: 0.8203 - accuracy: 0.9241 - val_loss: 1.2470 - val_accuracy: 0.4832\n",
            "Epoch 127/200\n",
            "30/30 [==============================] - 0s 10ms/step - loss: 0.8168 - accuracy: 0.9275 - val_loss: 1.2521 - val_accuracy: 0.4765\n",
            "Epoch 128/200\n",
            "30/30 [==============================] - 0s 9ms/step - loss: 0.8075 - accuracy: 0.9364 - val_loss: 1.2291 - val_accuracy: 0.5101\n",
            "Epoch 129/200\n",
            "30/30 [==============================] - 0s 9ms/step - loss: 0.8069 - accuracy: 0.9375 - val_loss: 1.2468 - val_accuracy: 0.4933\n",
            "Epoch 130/200\n",
            "30/30 [==============================] - 0s 10ms/step - loss: 0.8118 - accuracy: 0.9319 - val_loss: 1.2383 - val_accuracy: 0.4966\n",
            "Epoch 131/200\n",
            "30/30 [==============================] - 0s 9ms/step - loss: 0.8088 - accuracy: 0.9342 - val_loss: 1.2402 - val_accuracy: 0.4966\n",
            "Epoch 132/200\n",
            "30/30 [==============================] - 0s 9ms/step - loss: 0.8067 - accuracy: 0.9375 - val_loss: 1.2460 - val_accuracy: 0.4899\n",
            "Epoch 133/200\n",
            "30/30 [==============================] - 0s 10ms/step - loss: 0.8064 - accuracy: 0.9375 - val_loss: 1.1963 - val_accuracy: 0.5403\n",
            "Epoch 134/200\n",
            "30/30 [==============================] - 0s 10ms/step - loss: 0.8311 - accuracy: 0.9141 - val_loss: 1.2974 - val_accuracy: 0.4430\n",
            "Epoch 135/200\n",
            "30/30 [==============================] - 0s 9ms/step - loss: 0.8565 - accuracy: 0.8806 - val_loss: 1.2187 - val_accuracy: 0.5235\n",
            "Epoch 136/200\n",
            "30/30 [==============================] - 0s 10ms/step - loss: 0.8554 - accuracy: 0.8850 - val_loss: 1.2091 - val_accuracy: 0.5268\n",
            "Epoch 137/200\n",
            "30/30 [==============================] - 0s 10ms/step - loss: 0.8235 - accuracy: 0.9208 - val_loss: 1.1823 - val_accuracy: 0.5570\n",
            "Epoch 138/200\n",
            "30/30 [==============================] - 0s 9ms/step - loss: 0.8400 - accuracy: 0.9029 - val_loss: 1.2117 - val_accuracy: 0.5235\n",
            "Epoch 139/200\n",
            "30/30 [==============================] - 0s 10ms/step - loss: 0.8186 - accuracy: 0.9263 - val_loss: 1.2904 - val_accuracy: 0.4497\n",
            "Epoch 140/200\n",
            "30/30 [==============================] - 0s 9ms/step - loss: 0.8195 - accuracy: 0.9241 - val_loss: 1.2074 - val_accuracy: 0.5336\n",
            "Epoch 141/200\n",
            "30/30 [==============================] - 0s 10ms/step - loss: 0.8096 - accuracy: 0.9342 - val_loss: 1.1976 - val_accuracy: 0.5369\n",
            "Epoch 142/200\n",
            "30/30 [==============================] - 0s 10ms/step - loss: 0.8052 - accuracy: 0.9375 - val_loss: 1.2001 - val_accuracy: 0.5403\n",
            "Epoch 143/200\n",
            "30/30 [==============================] - 0s 9ms/step - loss: 0.8122 - accuracy: 0.9308 - val_loss: 1.1800 - val_accuracy: 0.5604\n",
            "Epoch 144/200\n",
            "30/30 [==============================] - 0s 9ms/step - loss: 0.8141 - accuracy: 0.9308 - val_loss: 1.2727 - val_accuracy: 0.4631\n",
            "Epoch 145/200\n",
            "30/30 [==============================] - 0s 9ms/step - loss: 0.8224 - accuracy: 0.9219 - val_loss: 1.2004 - val_accuracy: 0.5302\n",
            "Epoch 146/200\n",
            "30/30 [==============================] - 0s 10ms/step - loss: 0.8280 - accuracy: 0.9129 - val_loss: 1.2250 - val_accuracy: 0.5101\n",
            "Epoch 147/200\n",
            "30/30 [==============================] - 0s 9ms/step - loss: 0.8106 - accuracy: 0.9342 - val_loss: 1.2382 - val_accuracy: 0.4899\n",
            "Epoch 148/200\n",
            "30/30 [==============================] - 0s 10ms/step - loss: 0.8147 - accuracy: 0.9286 - val_loss: 1.1940 - val_accuracy: 0.5470\n",
            "Epoch 149/200\n",
            "30/30 [==============================] - 0s 10ms/step - loss: 0.8283 - accuracy: 0.9141 - val_loss: 1.2133 - val_accuracy: 0.5235\n",
            "Epoch 150/200\n",
            "30/30 [==============================] - 0s 9ms/step - loss: 0.8242 - accuracy: 0.9196 - val_loss: 1.2316 - val_accuracy: 0.5000\n",
            "Epoch 151/200\n",
            "30/30 [==============================] - 0s 10ms/step - loss: 0.8326 - accuracy: 0.9107 - val_loss: 1.2792 - val_accuracy: 0.4631\n",
            "Epoch 152/200\n",
            "30/30 [==============================] - 0s 9ms/step - loss: 0.8415 - accuracy: 0.9007 - val_loss: 1.2422 - val_accuracy: 0.4966\n",
            "Epoch 153/200\n",
            "30/30 [==============================] - 0s 10ms/step - loss: 0.8176 - accuracy: 0.9263 - val_loss: 1.1927 - val_accuracy: 0.5503\n",
            "Epoch 154/200\n",
            "30/30 [==============================] - 0s 9ms/step - loss: 0.8178 - accuracy: 0.9263 - val_loss: 1.1891 - val_accuracy: 0.5537\n",
            "Epoch 155/200\n",
            "30/30 [==============================] - 0s 10ms/step - loss: 0.8219 - accuracy: 0.9219 - val_loss: 1.1561 - val_accuracy: 0.5872\n",
            "Epoch 156/200\n",
            "30/30 [==============================] - 0s 10ms/step - loss: 0.8338 - accuracy: 0.9096 - val_loss: 1.1767 - val_accuracy: 0.5604\n",
            "Epoch 157/200\n",
            "30/30 [==============================] - 0s 10ms/step - loss: 0.8509 - accuracy: 0.8917 - val_loss: 1.2973 - val_accuracy: 0.4362\n",
            "Epoch 158/200\n",
            "30/30 [==============================] - 0s 9ms/step - loss: 0.8515 - accuracy: 0.8917 - val_loss: 1.2175 - val_accuracy: 0.5235\n",
            "Epoch 159/200\n",
            "30/30 [==============================] - 0s 10ms/step - loss: 0.8343 - accuracy: 0.9085 - val_loss: 1.2522 - val_accuracy: 0.4866\n",
            "Epoch 160/200\n",
            "30/30 [==============================] - 0s 9ms/step - loss: 0.8301 - accuracy: 0.9129 - val_loss: 1.1839 - val_accuracy: 0.5503\n",
            "Epoch 161/200\n",
            "30/30 [==============================] - 0s 9ms/step - loss: 0.8225 - accuracy: 0.9208 - val_loss: 1.1835 - val_accuracy: 0.5604\n",
            "Epoch 162/200\n",
            "30/30 [==============================] - 0s 10ms/step - loss: 0.8200 - accuracy: 0.9241 - val_loss: 1.2041 - val_accuracy: 0.5403\n",
            "Epoch 163/200\n",
            "30/30 [==============================] - 0s 9ms/step - loss: 0.8192 - accuracy: 0.9241 - val_loss: 1.2344 - val_accuracy: 0.5034\n",
            "Epoch 164/200\n",
            "30/30 [==============================] - 0s 10ms/step - loss: 0.8119 - accuracy: 0.9319 - val_loss: 1.1894 - val_accuracy: 0.5503\n",
            "Epoch 165/200\n",
            "30/30 [==============================] - 0s 10ms/step - loss: 0.8181 - accuracy: 0.9241 - val_loss: 1.2312 - val_accuracy: 0.5101\n",
            "Epoch 166/200\n",
            "30/30 [==============================] - 0s 10ms/step - loss: 0.8117 - accuracy: 0.9319 - val_loss: 1.1928 - val_accuracy: 0.5470\n",
            "Epoch 167/200\n",
            "30/30 [==============================] - 0s 9ms/step - loss: 0.8114 - accuracy: 0.9319 - val_loss: 1.2358 - val_accuracy: 0.5000\n",
            "Epoch 168/200\n",
            "30/30 [==============================] - 0s 10ms/step - loss: 0.8063 - accuracy: 0.9375 - val_loss: 1.2028 - val_accuracy: 0.5369\n",
            "Epoch 169/200\n",
            "30/30 [==============================] - 0s 10ms/step - loss: 0.8141 - accuracy: 0.9297 - val_loss: 1.2003 - val_accuracy: 0.5403\n",
            "Epoch 170/200\n",
            "30/30 [==============================] - 0s 10ms/step - loss: 0.8468 - accuracy: 0.8940 - val_loss: 1.2032 - val_accuracy: 0.5369\n",
            "Epoch 171/200\n",
            "30/30 [==============================] - 0s 10ms/step - loss: 0.8324 - accuracy: 0.9096 - val_loss: 1.2095 - val_accuracy: 0.5369\n",
            "Epoch 172/200\n",
            "30/30 [==============================] - 0s 10ms/step - loss: 0.8084 - accuracy: 0.9364 - val_loss: 1.1870 - val_accuracy: 0.5537\n",
            "Epoch 173/200\n",
            "30/30 [==============================] - 0s 9ms/step - loss: 0.8182 - accuracy: 0.9263 - val_loss: 1.1835 - val_accuracy: 0.5570\n",
            "Epoch 174/200\n",
            "30/30 [==============================] - 0s 10ms/step - loss: 0.8186 - accuracy: 0.9252 - val_loss: 1.2142 - val_accuracy: 0.5268\n",
            "Epoch 175/200\n",
            "30/30 [==============================] - 0s 9ms/step - loss: 0.8261 - accuracy: 0.9174 - val_loss: 1.2355 - val_accuracy: 0.4933\n",
            "Epoch 176/200\n",
            "30/30 [==============================] - 0s 9ms/step - loss: 0.8200 - accuracy: 0.9241 - val_loss: 1.2663 - val_accuracy: 0.4698\n",
            "Epoch 177/200\n",
            "30/30 [==============================] - 0s 9ms/step - loss: 0.8187 - accuracy: 0.9252 - val_loss: 1.1904 - val_accuracy: 0.5503\n",
            "Epoch 178/200\n",
            "30/30 [==============================] - 0s 10ms/step - loss: 0.8034 - accuracy: 0.9397 - val_loss: 1.2127 - val_accuracy: 0.5268\n",
            "Epoch 179/200\n",
            "30/30 [==============================] - 0s 10ms/step - loss: 0.8028 - accuracy: 0.9420 - val_loss: 1.1918 - val_accuracy: 0.5470\n",
            "Epoch 180/200\n",
            "30/30 [==============================] - 0s 10ms/step - loss: 0.8222 - accuracy: 0.9230 - val_loss: 1.1785 - val_accuracy: 0.5671\n",
            "Epoch 181/200\n",
            "30/30 [==============================] - 0s 10ms/step - loss: 0.8118 - accuracy: 0.9308 - val_loss: 1.1982 - val_accuracy: 0.5403\n",
            "Epoch 182/200\n",
            "30/30 [==============================] - 0s 10ms/step - loss: 0.8149 - accuracy: 0.9275 - val_loss: 1.2068 - val_accuracy: 0.5302\n",
            "Epoch 183/200\n",
            "30/30 [==============================] - 0s 9ms/step - loss: 0.8041 - accuracy: 0.9397 - val_loss: 1.2435 - val_accuracy: 0.4966\n",
            "Epoch 184/200\n",
            "30/30 [==============================] - 0s 9ms/step - loss: 0.8022 - accuracy: 0.9408 - val_loss: 1.1945 - val_accuracy: 0.5403\n",
            "Epoch 185/200\n",
            "30/30 [==============================] - 0s 9ms/step - loss: 0.7988 - accuracy: 0.9442 - val_loss: 1.1918 - val_accuracy: 0.5436\n",
            "Epoch 186/200\n",
            "30/30 [==============================] - 0s 9ms/step - loss: 0.8323 - accuracy: 0.9107 - val_loss: 1.2416 - val_accuracy: 0.5034\n",
            "Epoch 187/200\n",
            "30/30 [==============================] - 0s 9ms/step - loss: 0.8126 - accuracy: 0.9308 - val_loss: 1.1854 - val_accuracy: 0.5604\n",
            "Epoch 188/200\n",
            "30/30 [==============================] - 0s 10ms/step - loss: 0.8113 - accuracy: 0.9319 - val_loss: 1.2544 - val_accuracy: 0.4866\n",
            "Epoch 189/200\n",
            "30/30 [==============================] - 0s 9ms/step - loss: 0.8198 - accuracy: 0.9230 - val_loss: 1.2346 - val_accuracy: 0.5101\n",
            "Epoch 190/200\n",
            "30/30 [==============================] - 0s 9ms/step - loss: 0.8187 - accuracy: 0.9252 - val_loss: 1.2200 - val_accuracy: 0.5168\n",
            "Epoch 191/200\n",
            "30/30 [==============================] - 0s 10ms/step - loss: 0.8697 - accuracy: 0.8739 - val_loss: 1.1785 - val_accuracy: 0.5570\n",
            "Epoch 192/200\n",
            "30/30 [==============================] - 0s 9ms/step - loss: 0.8222 - accuracy: 0.9208 - val_loss: 1.1728 - val_accuracy: 0.5671\n",
            "Epoch 193/200\n",
            "30/30 [==============================] - 0s 9ms/step - loss: 0.8102 - accuracy: 0.9330 - val_loss: 1.1637 - val_accuracy: 0.5805\n",
            "Epoch 194/200\n",
            "30/30 [==============================] - 0s 9ms/step - loss: 0.8076 - accuracy: 0.9353 - val_loss: 1.1693 - val_accuracy: 0.5671\n",
            "Epoch 195/200\n",
            "30/30 [==============================] - 0s 9ms/step - loss: 0.8057 - accuracy: 0.9375 - val_loss: 1.2034 - val_accuracy: 0.5369\n",
            "Epoch 196/200\n",
            "30/30 [==============================] - 0s 9ms/step - loss: 0.8128 - accuracy: 0.9308 - val_loss: 1.2262 - val_accuracy: 0.5168\n",
            "Epoch 197/200\n",
            "30/30 [==============================] - 0s 9ms/step - loss: 0.8311 - accuracy: 0.9129 - val_loss: 1.2409 - val_accuracy: 0.5000\n",
            "Epoch 198/200\n",
            "30/30 [==============================] - 0s 10ms/step - loss: 0.8131 - accuracy: 0.9286 - val_loss: 1.2140 - val_accuracy: 0.5268\n",
            "Epoch 199/200\n",
            "30/30 [==============================] - 0s 10ms/step - loss: 0.8373 - accuracy: 0.9062 - val_loss: 1.2288 - val_accuracy: 0.5134\n",
            "Epoch 200/200\n",
            "30/30 [==============================] - 0s 9ms/step - loss: 0.8162 - accuracy: 0.9263 - val_loss: 1.3057 - val_accuracy: 0.4228\n"
          ],
          "name": "stdout"
        }
      ]
    },
    {
      "cell_type": "code",
      "metadata": {
        "id": "Um62Ja3fPnGC",
        "colab_type": "code",
        "colab": {
          "base_uri": "https://localhost:8080/",
          "height": 499
        },
        "outputId": "5f442ddb-475c-4fe2-cf99-5158ba9e6600"
      },
      "source": [
        "acc = history.history['accuracy']\n",
        "val_acc = history.history['val_accuracy']\n",
        "\n",
        "loss=history.history['loss']\n",
        "val_loss=history.history['val_loss']\n",
        "\n",
        "epochs_range = range(epochs)\n",
        "\n",
        "plt.figure(figsize=(8, 8))\n",
        "plt.subplot(1, 2, 1)\n",
        "plt.plot(epochs_range, acc, label='Training Accuracy')\n",
        "plt.plot(epochs_range, val_acc, label='Validation Accuracy')\n",
        "plt.legend(loc='lower right')\n",
        "plt.title('Training and Validation Accuracy')\n",
        "\n",
        "plt.subplot(1, 2, 2)\n",
        "plt.plot(epochs_range, loss, label='Training Loss')\n",
        "plt.plot(epochs_range, val_loss, label='Validation Loss')\n",
        "plt.legend(loc='upper right')\n",
        "plt.title('Training and Validation Loss')\n",
        "plt.show()"
      ],
      "execution_count": 208,
      "outputs": [
        {
          "output_type": "display_data",
          "data": {
            "image/png": "[encoded data removed]",
            "text/plain": [
              "<Figure size 576x576 with 2 Axes>"
            ]
          },
          "metadata": {
            "tags": [],
            "needs_background": "light"
          }
        }
      ]
    },
    {
      "cell_type": "markdown",
      "metadata": {
        "id": "t8Z4uVcUrVgO",
        "colab_type": "text"
      },
      "source": [
        "# 使用模型來判斷測試圖片\n",
        "\n"
      ]
    },
    {
      "cell_type": "code",
      "metadata": {
        "id": "c8KQJYDxWMXB",
        "colab_type": "code",
        "colab": {
          "base_uri": "https://localhost:8080/",
          "height": 85
        },
        "outputId": "d4f982fc-ad78-4278-b5f5-326b37ccb919"
      },
      "source": [
        "test=['吉娃娃','柯基','馬爾濟斯','哈士奇']#吉娃娃是dog1,柯基是dog2,馬爾濟斯是dog3,哈士奇是dog4\n",
        "for i in test:\n",
        "  img1= keras.preprocessing.image.load_img(\n",
        "    '/content/{}.jpg'.format(i), target_size=(64, 64)\n",
        "  )\n",
        "  img_array = keras.preprocessing.image.img_to_array(img1)\n",
        "  img_array = tf.expand_dims(img_array, 0)\n",
        "  predictions = model.predict(img_array)\n",
        "  score = tf.nn.softmax(predictions[0])\n",
        "  print(\n",
        "    \"This image most likely belongs to {} with a {:.2f} percent confidence.\"\n",
        "    .format(class_names[np.argmax(score)], 100 * np.max(score)))"
      ],
      "execution_count": 221,
      "outputs": [
        {
          "output_type": "stream",
          "text": [
            "This image most likely belongs to dog1 with a 47.54 percent confidence.\n",
            "This image most likely belongs to dog2 with a 46.35 percent confidence.\n",
            "This image most likely belongs to dog4 with a 47.05 percent confidence.\n",
            "This image most likely belongs to dog4 with a 47.54 percent confidence.\n"
          ],
          "name": "stdout"
        }
      ]
    },
    {
      "cell_type": "code",
      "metadata": {
        "id": "gljg9kVWpNxZ",
        "colab_type": "code",
        "colab": {}
      },
      "source": [
        "\n",
        "\n"
      ],
      "execution_count": 213,
      "outputs": []
    },
    {
      "cell_type": "code",
      "metadata": {
        "id": "oSjK4VELpOj4",
        "colab_type": "code",
        "colab": {}
      },
      "source": [
        ""
      ],
      "execution_count": 217,
      "outputs": []
    },
    {
      "cell_type": "code",
      "metadata": {
        "id": "XmAl6gJHpie5",
        "colab_type": "code",
        "colab": {}
      },
      "source": [
        ""
      ],
      "execution_count": 217,
      "outputs": []
    },
    {
      "cell_type": "code",
      "metadata": {
        "id": "9EfQq6XGpvpn",
        "colab_type": "code",
        "colab": {}
      },
      "source": [
        ""
      ],
      "execution_count": null,
      "outputs": []
    }
  ]
}